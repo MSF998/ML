{
 "cells": [
  {
   "cell_type": "code",
   "execution_count": null,
   "id": "e2f71264",
   "metadata": {},
   "outputs": [
    {
     "ename": "",
     "evalue": "",
     "output_type": "error",
     "traceback": [
      "\u001b[1;31mRunning cells with 'Python 3.11.7' requires the ipykernel package.\n",
      "\u001b[1;31m<a href='command:jupyter.createPythonEnvAndSelectController'>Create a Python Environment</a> with the required packages.\n",
      "\u001b[1;31mOr install 'ipykernel' using the command: 'c:/msys64/ucrt64/bin/python.exe -m pip install ipykernel -U --user --force-reinstall'"
     ]
    }
   ],
   "source": [
    "import kagglehub\n",
    "\n",
    "# Download latest version``\n",
    "# path = kagglehub.dataset_download(\"amitabhajoy/bengaluru-house-price-data\")\n",
    "\n",
    "# print(\"Path to dataset files:\", path)"
   ]
  },
  {
   "cell_type": "code",
   "execution_count": null,
   "id": "2db6f4c7",
   "metadata": {},
   "outputs": [],
   "source": [
    "import pandas as pd\n",
    "\n",
    "df = pd.read_csv('Bengaluru_House_Data.csv')\n",
    "\n",
    "df.info()"
   ]
  },
  {
   "cell_type": "code",
   "execution_count": null,
   "id": "52aefad3",
   "metadata": {},
   "outputs": [],
   "source": [
    "df.describe()"
   ]
  },
  {
   "cell_type": "code",
   "execution_count": null,
   "id": "7ec8c4e8",
   "metadata": {},
   "outputs": [],
   "source": [
    "#Check Missing Values\n",
    "df.isnull().sum()"
   ]
  },
  {
   "cell_type": "markdown",
   "id": "a65d389b",
   "metadata": {},
   "source": [
    "Cleaning Data\n",
    "A.Deleting Rows\n",
    "You can remove rows that have missing values. This is a good option for columns like location (1 missing) and size (16 missing), as you won't lose much of your overall dataset."
   ]
  },
  {
   "cell_type": "code",
   "execution_count": null,
   "id": "845e75a6",
   "metadata": {},
   "outputs": [],
   "source": [
    "df.dropna(subset=['location','size'], inplace=True)\n",
    "df.isnull().sum()"
   ]
  },
  {
   "cell_type": "markdown",
   "id": "7d712982",
   "metadata": {},
   "source": [
    "B. Deleting Columns\n",
    "You can remove an entire column if it has too many missing values to be useful. Your society column, with 5502 missing values, is a perfect candidate for this."
   ]
  },
  {
   "cell_type": "code",
   "execution_count": null,
   "id": "99790dad",
   "metadata": {},
   "outputs": [],
   "source": [
    "df.drop('society', axis=1, inplace=True)\n",
    "# axis=1 tells pandas to drop a column ( axis=0 would be for a row).\n",
    "df.isnull().sum()"
   ]
  },
  {
   "cell_type": "markdown",
   "id": "20641fbf",
   "metadata": {},
   "source": [
    "Standard Deviation is a measure of spread\n",
    "Low SD = Data is closely clustered\n",
    "High SD = Data is dispersed over wider range of values"
   ]
  },
  {
   "cell_type": "markdown",
   "id": "59db607c",
   "metadata": {},
   "source": [
    "Filling Missing Values (Imputation)\n",
    "A. For Numerical Columns (bath, balcony)\n",
    "For columns with numbers, you can use a measure of central tendency.\n",
    "\n",
    "Median: The middle value. This is the safest and most common choice, especially if the data might have outliers (extreme high or low values).\n",
    "\n",
    "Mean: The average value. Be cautious with this if you have outliers, as they can skew the average."
   ]
  },
  {
   "cell_type": "code",
   "execution_count": null,
   "id": "9b3f2e51",
   "metadata": {},
   "outputs": [],
   "source": [
    "median_bath = df['bath'].median()\n",
    "\n",
    "df['bath'] = df['bath'].fillna(median_bath)\n",
    "df.isnull().sum()"
   ]
  },
  {
   "cell_type": "markdown",
   "id": "60d8d7f2",
   "metadata": {},
   "source": [
    "B. For Categorical Columns (size)\n",
    "For columns containing categories (like size, which might have values like '2 BHK', '3 BHK', etc.), you should use the mode.\n",
    "\n",
    "Mode: The most frequently occurring value in the column."
   ]
  },
  {
   "cell_type": "code",
   "execution_count": null,
   "id": "eb4d225f",
   "metadata": {},
   "outputs": [],
   "source": [
    "# Find the mode of the 'size' column\n",
    "# .mode() returns a Series, so we take the first item with [0]\n",
    "mode_size = df['size'].mode()[0] #2 BHK\n",
    "# Fill missing values in 'size' with the mode\n",
    "df['size'] = df['size'].fillna(mode_size)\n",
    "df.isnull().sum()"
   ]
  },
  {
   "cell_type": "markdown",
   "id": "9ffc70ef",
   "metadata": {},
   "source": [
    "C. Using Logic or a Constant Value\n",
    "Sometimes, a missing value has an implied meaning. For your balcony column, it's possible that a missing value actually means the property has 0 balconies. If this assumption makes sense for your data, you can fill with a constant value."
   ]
  },
  {
   "cell_type": "code",
   "execution_count": null,
   "id": "030176a3",
   "metadata": {},
   "outputs": [],
   "source": [
    "df['balcony'] = df['balcony'].fillna(0)\n",
    "df.isnull().sum()"
   ]
  },
  {
   "cell_type": "markdown",
   "id": "e247c461",
   "metadata": {},
   "source": [
    "Fixing Incorrect Data Types\n"
   ]
  },
  {
   "cell_type": "code",
   "execution_count": null,
   "id": "c7469eb8",
   "metadata": {},
   "outputs": [],
   "source": [
    "df.info()"
   ]
  },
  {
   "cell_type": "markdown",
   "id": "aa7109ad",
   "metadata": {},
   "source": [
    "Clean the size column\n",
    "The size column contains strings like '2 BHK', '3 Bedroom', etc. We only need the number. We can create a new column, let's call it bhk, to store this numeric value."
   ]
  },
  {
   "cell_type": "code",
   "execution_count": null,
   "id": "af6e0966",
   "metadata": {},
   "outputs": [],
   "source": [
    "# The lambda function splits the string by space and takes the first part\n",
    "df['bhk'] = df['size'].apply(lambda x: int(x.split(' ')[0]))\n",
    "\n",
    "# We don't need the original 'size' column anymore\n",
    "df = df.drop('size', axis='columns')\n",
    "print(df)"
   ]
  },
  {
   "cell_type": "markdown",
   "id": "81fa0893",
   "metadata": {},
   "source": [
    "Clean the total_sqft column\n",
    "This column is an object because it contains ranges (e.g., '1000 - 1200') and non-numeric values. We need a function to convert these ranges into a single number (like their average) and handle other variations"
   ]
  },
  {
   "cell_type": "code",
   "execution_count": null,
   "id": "ea790346",
   "metadata": {},
   "outputs": [],
   "source": [
    "def is_float(x):\n",
    "    try:\n",
    "        float(x)\n",
    "    except:\n",
    "        return False\n",
    "    return True\n",
    "\n",
    "# Show rows where total_sqft is not a valid float number\n",
    "df[~df['total_sqft'].apply(is_float)].head(10)"
   ]
  },
  {
   "cell_type": "code",
   "execution_count": null,
   "id": "3cc63966",
   "metadata": {},
   "outputs": [],
   "source": [
    "import numpy as np\n",
    "def convert_sqft_to_num(x):\n",
    "    tokens = x.split('-')\n",
    "    if len(tokens) == 2:\n",
    "        return (float(tokens[0]) + float(tokens[1])) / 2\n",
    "    try:\n",
    "        return float(x)\n",
    "    except:\n",
    "        return np.nan # Return NaN for values like '34.46Sq. Meter'\n",
    "\n",
    "# Apply the function to the total_sqft column\n",
    "df['total_sqft'] = df['total_sqft'].apply(convert_sqft_to_num)\n",
    "\n",
    "# Now, drop the few rows that became NaN (e.g., 'Sq. Meter')\n",
    "df = df.dropna(subset=['total_sqft'])"
   ]
  },
  {
   "cell_type": "code",
   "execution_count": null,
   "id": "1ddb89fb",
   "metadata": {},
   "outputs": [],
   "source": [
    "df.info()"
   ]
  },
  {
   "cell_type": "code",
   "execution_count": null,
   "id": "48e5e23e",
   "metadata": {},
   "outputs": [],
   "source": [
    "df.to_csv('cleaned_bengalur.csv')"
   ]
  }
 ],
 "metadata": {
  "kernelspec": {
   "display_name": "Python 3",
   "language": "python",
   "name": "python3"
  },
  "language_info": {
   "codemirror_mode": {
    "name": "ipython",
    "version": 3
   },
   "file_extension": ".py",
   "mimetype": "text/x-python",
   "name": "python",
   "nbconvert_exporter": "python",
   "pygments_lexer": "ipython3",
   "version": "3.11.7"
  }
 },
 "nbformat": 4,
 "nbformat_minor": 5
}
