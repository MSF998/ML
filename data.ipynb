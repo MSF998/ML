{
 "cells": [
  {
   "cell_type": "code",
   "execution_count": 1,
   "id": "e2f71264",
   "metadata": {},
   "outputs": [
    {
     "name": "stderr",
     "output_type": "stream",
     "text": [
      "c:\\Users\\mohds\\miniconda3\\Lib\\site-packages\\tqdm\\auto.py:21: TqdmWarning: IProgress not found. Please update jupyter and ipywidgets. See https://ipywidgets.readthedocs.io/en/stable/user_install.html\n",
      "  from .autonotebook import tqdm as notebook_tqdm\n"
     ]
    }
   ],
   "source": [
    "import kagglehub\n",
    "\n",
    "# Download latest version\n",
    "# path = kagglehub.dataset_download(\"amitabhajoy/bengaluru-house-price-data\")\n",
    "\n",
    "# print(\"Path to dataset files:\", path)"
   ]
  },
  {
   "cell_type": "code",
   "execution_count": 2,
   "id": "2db6f4c7",
   "metadata": {},
   "outputs": [
    {
     "name": "stdout",
     "output_type": "stream",
     "text": [
      "<class 'pandas.core.frame.DataFrame'>\n",
      "RangeIndex: 13320 entries, 0 to 13319\n",
      "Data columns (total 9 columns):\n",
      " #   Column        Non-Null Count  Dtype  \n",
      "---  ------        --------------  -----  \n",
      " 0   area_type     13320 non-null  object \n",
      " 1   availability  13320 non-null  object \n",
      " 2   location      13319 non-null  object \n",
      " 3   size          13304 non-null  object \n",
      " 4   society       7818 non-null   object \n",
      " 5   total_sqft    13320 non-null  object \n",
      " 6   bath          13247 non-null  float64\n",
      " 7   balcony       12711 non-null  float64\n",
      " 8   price         13320 non-null  float64\n",
      "dtypes: float64(3), object(6)\n",
      "memory usage: 936.7+ KB\n"
     ]
    }
   ],
   "source": [
    "import pandas as pd\n",
    "\n",
    "df = pd.read_csv('Bengaluru_House_Data.csv')\n",
    "\n",
    "df.info()"
   ]
  },
  {
   "cell_type": "code",
   "execution_count": 3,
   "id": "52aefad3",
   "metadata": {},
   "outputs": [
    {
     "data": {
      "text/html": [
       "<div>\n",
       "<style scoped>\n",
       "    .dataframe tbody tr th:only-of-type {\n",
       "        vertical-align: middle;\n",
       "    }\n",
       "\n",
       "    .dataframe tbody tr th {\n",
       "        vertical-align: top;\n",
       "    }\n",
       "\n",
       "    .dataframe thead th {\n",
       "        text-align: right;\n",
       "    }\n",
       "</style>\n",
       "<table border=\"1\" class=\"dataframe\">\n",
       "  <thead>\n",
       "    <tr style=\"text-align: right;\">\n",
       "      <th></th>\n",
       "      <th>bath</th>\n",
       "      <th>balcony</th>\n",
       "      <th>price</th>\n",
       "    </tr>\n",
       "  </thead>\n",
       "  <tbody>\n",
       "    <tr>\n",
       "      <th>count</th>\n",
       "      <td>13247.000000</td>\n",
       "      <td>12711.000000</td>\n",
       "      <td>13320.000000</td>\n",
       "    </tr>\n",
       "    <tr>\n",
       "      <th>mean</th>\n",
       "      <td>2.692610</td>\n",
       "      <td>1.584376</td>\n",
       "      <td>112.565627</td>\n",
       "    </tr>\n",
       "    <tr>\n",
       "      <th>std</th>\n",
       "      <td>1.341458</td>\n",
       "      <td>0.817263</td>\n",
       "      <td>148.971674</td>\n",
       "    </tr>\n",
       "    <tr>\n",
       "      <th>min</th>\n",
       "      <td>1.000000</td>\n",
       "      <td>0.000000</td>\n",
       "      <td>8.000000</td>\n",
       "    </tr>\n",
       "    <tr>\n",
       "      <th>25%</th>\n",
       "      <td>2.000000</td>\n",
       "      <td>1.000000</td>\n",
       "      <td>50.000000</td>\n",
       "    </tr>\n",
       "    <tr>\n",
       "      <th>50%</th>\n",
       "      <td>2.000000</td>\n",
       "      <td>2.000000</td>\n",
       "      <td>72.000000</td>\n",
       "    </tr>\n",
       "    <tr>\n",
       "      <th>75%</th>\n",
       "      <td>3.000000</td>\n",
       "      <td>2.000000</td>\n",
       "      <td>120.000000</td>\n",
       "    </tr>\n",
       "    <tr>\n",
       "      <th>max</th>\n",
       "      <td>40.000000</td>\n",
       "      <td>3.000000</td>\n",
       "      <td>3600.000000</td>\n",
       "    </tr>\n",
       "  </tbody>\n",
       "</table>\n",
       "</div>"
      ],
      "text/plain": [
       "               bath       balcony         price\n",
       "count  13247.000000  12711.000000  13320.000000\n",
       "mean       2.692610      1.584376    112.565627\n",
       "std        1.341458      0.817263    148.971674\n",
       "min        1.000000      0.000000      8.000000\n",
       "25%        2.000000      1.000000     50.000000\n",
       "50%        2.000000      2.000000     72.000000\n",
       "75%        3.000000      2.000000    120.000000\n",
       "max       40.000000      3.000000   3600.000000"
      ]
     },
     "execution_count": 3,
     "metadata": {},
     "output_type": "execute_result"
    }
   ],
   "source": [
    "df.describe()"
   ]
  },
  {
   "cell_type": "code",
   "execution_count": 4,
   "id": "7ec8c4e8",
   "metadata": {},
   "outputs": [
    {
     "data": {
      "text/plain": [
       "area_type          0\n",
       "availability       0\n",
       "location           1\n",
       "size              16\n",
       "society         5502\n",
       "total_sqft         0\n",
       "bath              73\n",
       "balcony          609\n",
       "price              0\n",
       "dtype: int64"
      ]
     },
     "execution_count": 4,
     "metadata": {},
     "output_type": "execute_result"
    }
   ],
   "source": [
    "#Check Missing Values\n",
    "df.isnull().sum()"
   ]
  },
  {
   "cell_type": "markdown",
   "id": "a65d389b",
   "metadata": {},
   "source": [
    "Cleaning Data\n",
    "A.Deleting Rows\n",
    "You can remove rows that have missing values. This is a good option for columns like location (1 missing) and size (16 missing), as you won't lose much of your overall dataset."
   ]
  },
  {
   "cell_type": "code",
   "execution_count": 5,
   "id": "845e75a6",
   "metadata": {},
   "outputs": [
    {
     "data": {
      "text/plain": [
       "area_type          0\n",
       "availability       0\n",
       "location           0\n",
       "size               0\n",
       "society         5499\n",
       "total_sqft         0\n",
       "bath              57\n",
       "balcony          593\n",
       "price              0\n",
       "dtype: int64"
      ]
     },
     "execution_count": 5,
     "metadata": {},
     "output_type": "execute_result"
    }
   ],
   "source": [
    "df.dropna(subset=['location','size'], inplace=True)\n",
    "df.isnull().sum()"
   ]
  },
  {
   "cell_type": "markdown",
   "id": "7d712982",
   "metadata": {},
   "source": [
    "B. Deleting Columns\n",
    "You can remove an entire column if it has too many missing values to be useful. Your society column, with 5502 missing values, is a perfect candidate for this."
   ]
  },
  {
   "cell_type": "code",
   "execution_count": 6,
   "id": "99790dad",
   "metadata": {},
   "outputs": [
    {
     "data": {
      "text/plain": [
       "area_type         0\n",
       "availability      0\n",
       "location          0\n",
       "size              0\n",
       "total_sqft        0\n",
       "bath             57\n",
       "balcony         593\n",
       "price             0\n",
       "dtype: int64"
      ]
     },
     "execution_count": 6,
     "metadata": {},
     "output_type": "execute_result"
    }
   ],
   "source": [
    "df.drop('society', axis=1, inplace=True)\n",
    "# axis=1 tells pandas to drop a column ( axis=0 would be for a row).\n",
    "df.isnull().sum()"
   ]
  },
  {
   "cell_type": "markdown",
   "id": "20641fbf",
   "metadata": {},
   "source": [
    "Standard Deviation is a measure of spread\n",
    "Low SD = Data is closely clustered\n",
    "High SD = Data is dispersed over wider range of values"
   ]
  },
  {
   "cell_type": "markdown",
   "id": "59db607c",
   "metadata": {},
   "source": [
    "Filling Missing Values (Imputation)\n",
    "A. For Numerical Columns (bath, balcony)\n",
    "For columns with numbers, you can use a measure of central tendency.\n",
    "\n",
    "Median: The middle value. This is the safest and most common choice, especially if the data might have outliers (extreme high or low values).\n",
    "\n",
    "Mean: The average value. Be cautious with this if you have outliers, as they can skew the average."
   ]
  },
  {
   "cell_type": "code",
   "execution_count": 7,
   "id": "9b3f2e51",
   "metadata": {},
   "outputs": [
    {
     "data": {
      "text/plain": [
       "area_type         0\n",
       "availability      0\n",
       "location          0\n",
       "size              0\n",
       "total_sqft        0\n",
       "bath              0\n",
       "balcony         593\n",
       "price             0\n",
       "dtype: int64"
      ]
     },
     "execution_count": 7,
     "metadata": {},
     "output_type": "execute_result"
    }
   ],
   "source": [
    "median_bath = df['bath'].median()\n",
    "\n",
    "df['bath'] = df['bath'].fillna(median_bath)\n",
    "df.isnull().sum()"
   ]
  },
  {
   "cell_type": "markdown",
   "id": "60d8d7f2",
   "metadata": {},
   "source": [
    "B. For Categorical Columns (size)\n",
    "For columns containing categories (like size, which might have values like '2 BHK', '3 BHK', etc.), you should use the mode.\n",
    "\n",
    "Mode: The most frequently occurring value in the column."
   ]
  },
  {
   "cell_type": "code",
   "execution_count": 8,
   "id": "eb4d225f",
   "metadata": {},
   "outputs": [
    {
     "data": {
      "text/plain": [
       "area_type         0\n",
       "availability      0\n",
       "location          0\n",
       "size              0\n",
       "total_sqft        0\n",
       "bath              0\n",
       "balcony         593\n",
       "price             0\n",
       "dtype: int64"
      ]
     },
     "execution_count": 8,
     "metadata": {},
     "output_type": "execute_result"
    }
   ],
   "source": [
    "# Find the mode of the 'size' column\n",
    "# .mode() returns a Series, so we take the first item with [0]\n",
    "mode_size = df['size'].mode()[0] #2 BHK\n",
    "# Fill missing values in 'size' with the mode\n",
    "df['size'] = df['size'].fillna(mode_size)\n",
    "df.isnull().sum()"
   ]
  },
  {
   "cell_type": "markdown",
   "id": "9ffc70ef",
   "metadata": {},
   "source": [
    "C. Using Logic or a Constant Value\n",
    "Sometimes, a missing value has an implied meaning. For your balcony column, it's possible that a missing value actually means the property has 0 balconies. If this assumption makes sense for your data, you can fill with a constant value."
   ]
  },
  {
   "cell_type": "code",
   "execution_count": 9,
   "id": "030176a3",
   "metadata": {},
   "outputs": [
    {
     "data": {
      "text/plain": [
       "area_type       0\n",
       "availability    0\n",
       "location        0\n",
       "size            0\n",
       "total_sqft      0\n",
       "bath            0\n",
       "balcony         0\n",
       "price           0\n",
       "dtype: int64"
      ]
     },
     "execution_count": 9,
     "metadata": {},
     "output_type": "execute_result"
    }
   ],
   "source": [
    "df['balcony'] = df['balcony'].fillna(0)\n",
    "df.isnull().sum()"
   ]
  },
  {
   "cell_type": "markdown",
   "id": "e247c461",
   "metadata": {},
   "source": [
    "Fixing Incorrect Data Types\n"
   ]
  },
  {
   "cell_type": "code",
   "execution_count": 10,
   "id": "c7469eb8",
   "metadata": {},
   "outputs": [
    {
     "name": "stdout",
     "output_type": "stream",
     "text": [
      "<class 'pandas.core.frame.DataFrame'>\n",
      "Index: 13303 entries, 0 to 13319\n",
      "Data columns (total 8 columns):\n",
      " #   Column        Non-Null Count  Dtype  \n",
      "---  ------        --------------  -----  \n",
      " 0   area_type     13303 non-null  object \n",
      " 1   availability  13303 non-null  object \n",
      " 2   location      13303 non-null  object \n",
      " 3   size          13303 non-null  object \n",
      " 4   total_sqft    13303 non-null  object \n",
      " 5   bath          13303 non-null  float64\n",
      " 6   balcony       13303 non-null  float64\n",
      " 7   price         13303 non-null  float64\n",
      "dtypes: float64(3), object(5)\n",
      "memory usage: 935.4+ KB\n"
     ]
    }
   ],
   "source": [
    "df.info()"
   ]
  },
  {
   "cell_type": "markdown",
   "id": "aa7109ad",
   "metadata": {},
   "source": [
    "Clean the size column\n",
    "The size column contains strings like '2 BHK', '3 Bedroom', etc. We only need the number. We can create a new column, let's call it bhk, to store this numeric value."
   ]
  },
  {
   "cell_type": "code",
   "execution_count": 11,
   "id": "af6e0966",
   "metadata": {},
   "outputs": [
    {
     "name": "stdout",
     "output_type": "stream",
     "text": [
      "                  area_type   availability                  location  \\\n",
      "0      Super built-up  Area         19-Dec  Electronic City Phase II   \n",
      "1                Plot  Area  Ready To Move          Chikka Tirupathi   \n",
      "2            Built-up  Area  Ready To Move               Uttarahalli   \n",
      "3      Super built-up  Area  Ready To Move        Lingadheeranahalli   \n",
      "4      Super built-up  Area  Ready To Move                  Kothanur   \n",
      "...                     ...            ...                       ...   \n",
      "13315        Built-up  Area  Ready To Move                Whitefield   \n",
      "13316  Super built-up  Area  Ready To Move             Richards Town   \n",
      "13317        Built-up  Area  Ready To Move     Raja Rajeshwari Nagar   \n",
      "13318  Super built-up  Area         18-Jun           Padmanabhanagar   \n",
      "13319  Super built-up  Area  Ready To Move              Doddathoguru   \n",
      "\n",
      "      total_sqft  bath  balcony   price  bhk  \n",
      "0           1056   2.0      1.0   39.07    2  \n",
      "1           2600   5.0      3.0  120.00    4  \n",
      "2           1440   2.0      3.0   62.00    3  \n",
      "3           1521   3.0      1.0   95.00    3  \n",
      "4           1200   2.0      1.0   51.00    2  \n",
      "...          ...   ...      ...     ...  ...  \n",
      "13315       3453   4.0      0.0  231.00    5  \n",
      "13316       3600   5.0      0.0  400.00    4  \n",
      "13317       1141   2.0      1.0   60.00    2  \n",
      "13318       4689   4.0      1.0  488.00    4  \n",
      "13319        550   1.0      1.0   17.00    1  \n",
      "\n",
      "[13303 rows x 8 columns]\n"
     ]
    }
   ],
   "source": [
    "# The lambda function splits the string by space and takes the first part\n",
    "df['bhk'] = df['size'].apply(lambda x: int(x.split(' ')[0]))\n",
    "\n",
    "# We don't need the original 'size' column anymore\n",
    "df = df.drop('size', axis='columns')\n",
    "print(df)"
   ]
  },
  {
   "cell_type": "markdown",
   "id": "81fa0893",
   "metadata": {},
   "source": [
    "Clean the total_sqft column\n",
    "This column is an object because it contains ranges (e.g., '1000 - 1200') and non-numeric values. We need a function to convert these ranges into a single number (like their average) and handle other variations"
   ]
  },
  {
   "cell_type": "code",
   "execution_count": 12,
   "id": "ea790346",
   "metadata": {},
   "outputs": [
    {
     "data": {
      "text/html": [
       "<div>\n",
       "<style scoped>\n",
       "    .dataframe tbody tr th:only-of-type {\n",
       "        vertical-align: middle;\n",
       "    }\n",
       "\n",
       "    .dataframe tbody tr th {\n",
       "        vertical-align: top;\n",
       "    }\n",
       "\n",
       "    .dataframe thead th {\n",
       "        text-align: right;\n",
       "    }\n",
       "</style>\n",
       "<table border=\"1\" class=\"dataframe\">\n",
       "  <thead>\n",
       "    <tr style=\"text-align: right;\">\n",
       "      <th></th>\n",
       "      <th>area_type</th>\n",
       "      <th>availability</th>\n",
       "      <th>location</th>\n",
       "      <th>total_sqft</th>\n",
       "      <th>bath</th>\n",
       "      <th>balcony</th>\n",
       "      <th>price</th>\n",
       "      <th>bhk</th>\n",
       "    </tr>\n",
       "  </thead>\n",
       "  <tbody>\n",
       "    <tr>\n",
       "      <th>30</th>\n",
       "      <td>Super built-up  Area</td>\n",
       "      <td>19-Dec</td>\n",
       "      <td>Yelahanka</td>\n",
       "      <td>2100 - 2850</td>\n",
       "      <td>4.0</td>\n",
       "      <td>0.0</td>\n",
       "      <td>186.000</td>\n",
       "      <td>4</td>\n",
       "    </tr>\n",
       "    <tr>\n",
       "      <th>56</th>\n",
       "      <td>Built-up  Area</td>\n",
       "      <td>20-Feb</td>\n",
       "      <td>Devanahalli</td>\n",
       "      <td>3010 - 3410</td>\n",
       "      <td>2.0</td>\n",
       "      <td>0.0</td>\n",
       "      <td>192.000</td>\n",
       "      <td>4</td>\n",
       "    </tr>\n",
       "    <tr>\n",
       "      <th>81</th>\n",
       "      <td>Built-up  Area</td>\n",
       "      <td>18-Oct</td>\n",
       "      <td>Hennur Road</td>\n",
       "      <td>2957 - 3450</td>\n",
       "      <td>2.0</td>\n",
       "      <td>0.0</td>\n",
       "      <td>224.500</td>\n",
       "      <td>4</td>\n",
       "    </tr>\n",
       "    <tr>\n",
       "      <th>122</th>\n",
       "      <td>Super built-up  Area</td>\n",
       "      <td>18-Mar</td>\n",
       "      <td>Hebbal</td>\n",
       "      <td>3067 - 8156</td>\n",
       "      <td>4.0</td>\n",
       "      <td>0.0</td>\n",
       "      <td>477.000</td>\n",
       "      <td>4</td>\n",
       "    </tr>\n",
       "    <tr>\n",
       "      <th>137</th>\n",
       "      <td>Super built-up  Area</td>\n",
       "      <td>19-Mar</td>\n",
       "      <td>8th Phase JP Nagar</td>\n",
       "      <td>1042 - 1105</td>\n",
       "      <td>2.0</td>\n",
       "      <td>0.0</td>\n",
       "      <td>54.005</td>\n",
       "      <td>2</td>\n",
       "    </tr>\n",
       "    <tr>\n",
       "      <th>165</th>\n",
       "      <td>Super built-up  Area</td>\n",
       "      <td>18-Dec</td>\n",
       "      <td>Sarjapur</td>\n",
       "      <td>1145 - 1340</td>\n",
       "      <td>2.0</td>\n",
       "      <td>0.0</td>\n",
       "      <td>43.490</td>\n",
       "      <td>2</td>\n",
       "    </tr>\n",
       "    <tr>\n",
       "      <th>188</th>\n",
       "      <td>Super built-up  Area</td>\n",
       "      <td>Ready To Move</td>\n",
       "      <td>KR Puram</td>\n",
       "      <td>1015 - 1540</td>\n",
       "      <td>2.0</td>\n",
       "      <td>0.0</td>\n",
       "      <td>56.800</td>\n",
       "      <td>2</td>\n",
       "    </tr>\n",
       "    <tr>\n",
       "      <th>224</th>\n",
       "      <td>Super built-up  Area</td>\n",
       "      <td>19-Dec</td>\n",
       "      <td>Devanahalli</td>\n",
       "      <td>1520 - 1740</td>\n",
       "      <td>2.0</td>\n",
       "      <td>0.0</td>\n",
       "      <td>74.820</td>\n",
       "      <td>3</td>\n",
       "    </tr>\n",
       "    <tr>\n",
       "      <th>410</th>\n",
       "      <td>Super built-up  Area</td>\n",
       "      <td>Ready To Move</td>\n",
       "      <td>Kengeri</td>\n",
       "      <td>34.46Sq. Meter</td>\n",
       "      <td>1.0</td>\n",
       "      <td>0.0</td>\n",
       "      <td>18.500</td>\n",
       "      <td>1</td>\n",
       "    </tr>\n",
       "    <tr>\n",
       "      <th>549</th>\n",
       "      <td>Super built-up  Area</td>\n",
       "      <td>18-Sep</td>\n",
       "      <td>Hennur Road</td>\n",
       "      <td>1195 - 1440</td>\n",
       "      <td>2.0</td>\n",
       "      <td>0.0</td>\n",
       "      <td>63.770</td>\n",
       "      <td>2</td>\n",
       "    </tr>\n",
       "  </tbody>\n",
       "</table>\n",
       "</div>"
      ],
      "text/plain": [
       "                area_type   availability            location      total_sqft  \\\n",
       "30   Super built-up  Area         19-Dec           Yelahanka     2100 - 2850   \n",
       "56         Built-up  Area         20-Feb         Devanahalli     3010 - 3410   \n",
       "81         Built-up  Area         18-Oct         Hennur Road     2957 - 3450   \n",
       "122  Super built-up  Area         18-Mar              Hebbal     3067 - 8156   \n",
       "137  Super built-up  Area         19-Mar  8th Phase JP Nagar     1042 - 1105   \n",
       "165  Super built-up  Area         18-Dec            Sarjapur     1145 - 1340   \n",
       "188  Super built-up  Area  Ready To Move            KR Puram     1015 - 1540   \n",
       "224  Super built-up  Area         19-Dec         Devanahalli     1520 - 1740   \n",
       "410  Super built-up  Area  Ready To Move             Kengeri  34.46Sq. Meter   \n",
       "549  Super built-up  Area         18-Sep         Hennur Road     1195 - 1440   \n",
       "\n",
       "     bath  balcony    price  bhk  \n",
       "30    4.0      0.0  186.000    4  \n",
       "56    2.0      0.0  192.000    4  \n",
       "81    2.0      0.0  224.500    4  \n",
       "122   4.0      0.0  477.000    4  \n",
       "137   2.0      0.0   54.005    2  \n",
       "165   2.0      0.0   43.490    2  \n",
       "188   2.0      0.0   56.800    2  \n",
       "224   2.0      0.0   74.820    3  \n",
       "410   1.0      0.0   18.500    1  \n",
       "549   2.0      0.0   63.770    2  "
      ]
     },
     "execution_count": 12,
     "metadata": {},
     "output_type": "execute_result"
    }
   ],
   "source": [
    "def is_float(x):\n",
    "    try:\n",
    "        float(x)\n",
    "    except:\n",
    "        return False\n",
    "    return True\n",
    "\n",
    "# Show rows where total_sqft is not a valid float number\n",
    "df[~df['total_sqft'].apply(is_float)].head(10)"
   ]
  },
  {
   "cell_type": "code",
   "execution_count": 13,
   "id": "3cc63966",
   "metadata": {},
   "outputs": [],
   "source": [
    "import numpy as np\n",
    "def convert_sqft_to_num(x):\n",
    "    tokens = x.split('-')\n",
    "    if len(tokens) == 2:\n",
    "        return (float(tokens[0]) + float(tokens[1])) / 2\n",
    "    try:\n",
    "        return float(x)\n",
    "    except:\n",
    "        return np.nan # Return NaN for values like '34.46Sq. Meter'\n",
    "\n",
    "# Apply the function to the total_sqft column\n",
    "df['total_sqft'] = df['total_sqft'].apply(convert_sqft_to_num)\n",
    "\n",
    "# Now, drop the few rows that became NaN (e.g., 'Sq. Meter')\n",
    "df = df.dropna(subset=['total_sqft'])"
   ]
  },
  {
   "cell_type": "code",
   "execution_count": 14,
   "id": "1ddb89fb",
   "metadata": {},
   "outputs": [
    {
     "name": "stdout",
     "output_type": "stream",
     "text": [
      "<class 'pandas.core.frame.DataFrame'>\n",
      "Index: 13257 entries, 0 to 13319\n",
      "Data columns (total 8 columns):\n",
      " #   Column        Non-Null Count  Dtype  \n",
      "---  ------        --------------  -----  \n",
      " 0   area_type     13257 non-null  object \n",
      " 1   availability  13257 non-null  object \n",
      " 2   location      13257 non-null  object \n",
      " 3   total_sqft    13257 non-null  float64\n",
      " 4   bath          13257 non-null  float64\n",
      " 5   balcony       13257 non-null  float64\n",
      " 6   price         13257 non-null  float64\n",
      " 7   bhk           13257 non-null  int64  \n",
      "dtypes: float64(4), int64(1), object(3)\n",
      "memory usage: 932.1+ KB\n"
     ]
    }
   ],
   "source": [
    "df.info()"
   ]
  }
 ],
 "metadata": {
  "kernelspec": {
   "display_name": "base",
   "language": "python",
   "name": "python3"
  },
  "language_info": {
   "codemirror_mode": {
    "name": "ipython",
    "version": 3
   },
   "file_extension": ".py",
   "mimetype": "text/x-python",
   "name": "python",
   "nbconvert_exporter": "python",
   "pygments_lexer": "ipython3",
   "version": "3.13.5"
  }
 },
 "nbformat": 4,
 "nbformat_minor": 5
}
