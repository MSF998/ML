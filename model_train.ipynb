{
 "cells": [
  {
   "cell_type": "code",
   "execution_count": 47,
   "id": "daa3b48b",
   "metadata": {},
   "outputs": [
    {
     "name": "stdout",
     "output_type": "stream",
     "text": [
      "<class 'pandas.core.frame.DataFrame'>\n",
      "RangeIndex: 13257 entries, 0 to 13256\n",
      "Data columns (total 9 columns):\n",
      " #   Column        Non-Null Count  Dtype  \n",
      "---  ------        --------------  -----  \n",
      " 0   Unnamed: 0    13257 non-null  int64  \n",
      " 1   area_type     13257 non-null  object \n",
      " 2   availability  13257 non-null  object \n",
      " 3   location      13257 non-null  object \n",
      " 4   total_sqft    13257 non-null  float64\n",
      " 5   bath          13257 non-null  float64\n",
      " 6   balcony       13257 non-null  float64\n",
      " 7   price         13257 non-null  float64\n",
      " 8   bhk           13257 non-null  int64  \n",
      "dtypes: float64(4), int64(2), object(3)\n",
      "memory usage: 932.3+ KB\n"
     ]
    },
    {
     "data": {
      "text/plain": [
       "Unnamed: 0      0\n",
       "area_type       0\n",
       "availability    0\n",
       "location        0\n",
       "total_sqft      0\n",
       "bath            0\n",
       "balcony         0\n",
       "price           0\n",
       "bhk             0\n",
       "dtype: int64"
      ]
     },
     "execution_count": 47,
     "metadata": {},
     "output_type": "execute_result"
    }
   ],
   "source": [
    "import pandas as pd\n",
    "\n",
    "df = pd.read_csv('cleaned_bengalur.csv')\n",
    "\n",
    "df.info()\n",
    "df.describe()\n",
    "df.isnull().sum()"
   ]
  },
  {
   "cell_type": "code",
   "execution_count": 48,
   "id": "ccca775c",
   "metadata": {},
   "outputs": [],
   "source": [
    "df['price_per_sqft'] = df['price'] * 100000 / df['total_sqft']"
   ]
  },
  {
   "cell_type": "code",
   "execution_count": 49,
   "id": "bb607dda",
   "metadata": {},
   "outputs": [
    {
     "name": "stdout",
     "output_type": "stream",
     "text": [
      "<class 'pandas.core.frame.DataFrame'>\n",
      "RangeIndex: 13257 entries, 0 to 13256\n",
      "Data columns (total 10 columns):\n",
      " #   Column          Non-Null Count  Dtype  \n",
      "---  ------          --------------  -----  \n",
      " 0   Unnamed: 0      13257 non-null  int64  \n",
      " 1   area_type       13257 non-null  object \n",
      " 2   availability    13257 non-null  object \n",
      " 3   location        13257 non-null  object \n",
      " 4   total_sqft      13257 non-null  float64\n",
      " 5   bath            13257 non-null  float64\n",
      " 6   balcony         13257 non-null  float64\n",
      " 7   price           13257 non-null  float64\n",
      " 8   bhk             13257 non-null  int64  \n",
      " 9   price_per_sqft  13257 non-null  float64\n",
      "dtypes: float64(5), int64(2), object(3)\n",
      "memory usage: 1.0+ MB\n"
     ]
    }
   ],
   "source": [
    "df.info()"
   ]
  },
  {
   "cell_type": "code",
   "execution_count": 50,
   "id": "4d6df32a",
   "metadata": {},
   "outputs": [
    {
     "name": "stdout",
     "output_type": "stream",
     "text": [
      "<class 'pandas.core.frame.DataFrame'>\n",
      "RangeIndex: 13257 entries, 0 to 13256\n",
      "Data columns (total 9 columns):\n",
      " #   Column          Non-Null Count  Dtype  \n",
      "---  ------          --------------  -----  \n",
      " 0   area_type       13257 non-null  object \n",
      " 1   availability    13257 non-null  object \n",
      " 2   location        13257 non-null  object \n",
      " 3   total_sqft      13257 non-null  float64\n",
      " 4   bath            13257 non-null  float64\n",
      " 5   balcony         13257 non-null  float64\n",
      " 6   price           13257 non-null  float64\n",
      " 7   bhk             13257 non-null  int64  \n",
      " 8   price_per_sqft  13257 non-null  float64\n",
      "dtypes: float64(5), int64(1), object(3)\n",
      "memory usage: 932.3+ KB\n"
     ]
    }
   ],
   "source": [
    "df.drop('Unnamed: 0', axis=1, inplace=True)\n",
    "df.info()"
   ]
  },
  {
   "cell_type": "markdown",
   "id": "c91e0466",
   "metadata": {},
   "source": [
    "Step 1: Prepare Features and Target (X and y)\n",
    "what data to use for predictions (features) and what it's trying to predict (the target).\n",
    "Features (X): The input variables your model uses to make a prediction. In our case, these are location, total_sqft, bath, balcony, and bhk.\n",
    "\n",
    "Target (y): The value you want to predict. Here, it's the price.\n",
    "\n",
    "Machine learning models only understand numbers, so we must convert the text-based location column into a numerical format. The best way to do this is with one-hot encoding, which creates a new binary (0 or 1) column for each unique location."
   ]
  },
  {
   "cell_type": "code",
   "execution_count": 51,
   "id": "f6979e91",
   "metadata": {},
   "outputs": [],
   "source": [
    "df_encoded = pd.get_dummies(df, drop_first=True)\n",
    "# df_encoded = pd.concat([df, dummies], axis='columns')\n",
    "X = df_encoded.drop(['price','price_per_sqft'], axis='columns')\n",
    "y = df_encoded.price"
   ]
  },
  {
   "cell_type": "markdown",
   "id": "5b2ad18a",
   "metadata": {},
   "source": [
    "Step 2: Split the Data into Training and Testing Sets\n",
    "To check if your model is accurate, you need to test it on data it has never seen before. We split our dataset into two parts:\n",
    "\n",
    "Training Set: Used to train the model.\n",
    "\n",
    "Testing Set: Used to evaluate the trained model's performance.\n",
    "\n",
    "We'll use Scikit-learn's train_test_split function for this. A common split is 80% for training and 20% for testing."
   ]
  },
  {
   "cell_type": "code",
   "execution_count": 52,
   "id": "dd1fed55",
   "metadata": {},
   "outputs": [],
   "source": [
    "from sklearn.model_selection import train_test_split\n",
    "\n",
    "# Split the data into training and testing sets (80% train, 20% test)\n",
    "X_train, X_test, y_train, y_test = train_test_split(X, y, test_size=0.2, random_state=10)"
   ]
  },
  {
   "cell_type": "markdown",
   "id": "4aacbb78",
   "metadata": {},
   "source": [
    "Step 3: Create and Train the Linear Regression Model 🤖\n",
    "Now for the main event! We will import the LinearRegression class, create an instance of the model, and train it using the .fit() method on our training data."
   ]
  },
  {
   "cell_type": "code",
   "execution_count": null,
   "id": "7886d0d7",
   "metadata": {},
   "outputs": [
    {
     "name": "stdout",
     "output_type": "stream",
     "text": [
      "Model R-squared score: 0.4202147552544194\n",
      "Mean Squared Error (MSE): 13260.61\n",
      "Root Mean Squared Error (RMSE): 115.15\n"
     ]
    }
   ],
   "source": [
    "from sklearn.linear_model import LinearRegression\n",
    "from sklearn.metrics import mean_squared_   error\n",
    "import numpy as np\n",
    "# Create an instance of the Linear Regression model\n",
    "lr_model = LinearRegression()\n",
    "\n",
    "# Train the model using the training data\n",
    "lr_model.fit(X_train, y_train)\n",
    "\n",
    "# Evaluate the model on the test data\n",
    "score = lr_model.score(X_test, y_test)\n",
    "\n",
    "print(f\"Model R-squared score: {score}\")\n",
    "\n",
    "y_predicted = lr_model.predict(X_test)\n",
    "\n",
    "mse = mean_squared_error(y_test, y_predicted)\n",
    "rmse = np.sqrt(mse) # RMSE is often easier to interpret\n",
    "\n",
    "print(f\"Mean Squared Error (MSE): {mse:.2f}\")\n",
    "print(f\"Root Mean Squared Error (RMSE): {rmse:.2f}\")"
   ]
  },
  {
   "cell_type": "markdown",
   "id": "a9814de2",
   "metadata": {},
   "source": [
    "Step 4: Evaluate the Model's Performance"
   ]
  },
  {
   "cell_type": "markdown",
   "id": "3d911db2",
   "metadata": {},
   "source": [
    "Now it's time to answer the most important question: \"Is my model any good?\"\n",
    "A Loss Function is simply a method for calculating a single \"error score\" that tells you how wrong your model's predictions are. Your goal in machine learning is always to make this score as low as possible. For your housing price project, we'll use the most common one: Mean Squared Error (MSE).\n",
    "Error: For each house, the error is the difference between the actual price and the price your model predicted. (Actual Price - Predicted Price)\n",
    "\n",
    "Squared: We square each error. This does two things: it makes all the errors positive (so they don't cancel each other out) and it heavily punishes large errors. A model that is off by ₹10 Lakhs is penalized much more than a model that is off by ₹1 Lakh ten times.\n",
    "\n",
    "Mean: We take the average of all these squared errors. This gives us a single, final score that represents the overall \"wrongness\" of our model."
   ]
  },
  {
   "cell_type": "code",
   "execution_count": 54,
   "id": "d14359ff",
   "metadata": {},
   "outputs": [
    {
     "name": "stdout",
     "output_type": "stream",
     "text": [
      "Model R-squared score: 0.6528357617377477\n",
      "Mean Squared Error (MSE): 7940.20\n",
      "Root Mean Squared Error (RMSE): 89.11\n"
     ]
    }
   ],
   "source": [
    "from sklearn.ensemble import  RandomForestRegressor\n",
    "\n",
    "rfr_model = RandomForestRegressor()\n",
    "rfr_model.fit(X_train, y_train)\n",
    "\n",
    "score = rfr_model.score(X_test, y_test)\n",
    "print(f\"Model R-squared score: {score}\")\n",
    "\n",
    "y_predicted = rfr_model.predict(X_test)\n",
    "mse = mean_squared_error(y_test, y_predicted)\n",
    "rmse = np.sqrt(mse) # RMSE is often easier to interpret\n",
    "\n",
    "print(f\"Mean Squared Error (MSE): {mse:.2f}\")\n",
    "print(f\"Root Mean Squared Error (RMSE): {rmse:.2f}\")"
   ]
  },
  {
   "cell_type": "code",
   "execution_count": 55,
   "id": "b5d46efa",
   "metadata": {},
   "outputs": [
    {
     "name": "stdout",
     "output_type": "stream",
     "text": [
      "Model R-squared score: 0.5953556855336994\n",
      "Mean Squared Error (MSE): 9254.86\n",
      "Root Mean Squared Error (RMSE): 96.20\n"
     ]
    }
   ],
   "source": [
    "from sklearn.ensemble import GradientBoostingRegressor\n",
    "gbc_model = GradientBoostingRegressor()\n",
    "gbc_model.fit(X_train, y_train)\n",
    "\n",
    "score = gbc_model.score(X_test, y_test)\n",
    "print(f\"Model R-squared score: {score}\")\n",
    "\n",
    "y_predicted = gbc_model.predict(X_test)\n",
    "mse = mean_squared_error(y_test, y_predicted)\n",
    "rmse = np.sqrt(mse) # RMSE is often easier to interpret\n",
    "\n",
    "print(f\"Mean Squared Error (MSE): {mse:.2f}\")\n",
    "print(f\"Root Mean Squared Error (RMSE): {rmse:.2f}\")"
   ]
  }
 ],
 "metadata": {
  "kernelspec": {
   "display_name": "ML",
   "language": "python",
   "name": "python3"
  },
  "language_info": {
   "codemirror_mode": {
    "name": "ipython",
    "version": 3
   },
   "file_extension": ".py",
   "mimetype": "text/x-python",
   "name": "python",
   "nbconvert_exporter": "python",
   "pygments_lexer": "ipython3",
   "version": "3.12.7"
  }
 },
 "nbformat": 4,
 "nbformat_minor": 5
}
